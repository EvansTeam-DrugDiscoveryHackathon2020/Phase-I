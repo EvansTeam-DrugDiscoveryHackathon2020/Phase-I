{
  "nbformat": 4,
  "nbformat_minor": 0,
  "metadata": {
    "colab": {
      "name": "MRT.ipynb",
      "provenance": [],
      "collapsed_sections": []
    },
    "kernelspec": {
      "name": "python3",
      "display_name": "Python 3"
    }
  },
  "cells": [
    {
      "cell_type": "code",
      "metadata": {
        "id": "3Y2I9ylVoGfN",
        "outputId": "4cc301d7-3d81-4f54-9753-828bda28370e",
        "colab": {
          "base_uri": "https://localhost:8080/"
        }
      },
      "source": [
        "# Installing conda\n",
        "!curl -Lo conda_installer.py https://raw.githubusercontent.com/deepchem/deepchem/master/scripts/colab_install.py\n",
        "import conda_installer\n",
        "conda_installer.install()\n",
        "!/root/miniconda/bin/conda info -e"
      ],
      "execution_count": null,
      "outputs": [
        {
          "output_type": "stream",
          "text": [
            "  % Total    % Received % Xferd  Average Speed   Time    Time     Time  Current\n",
            "                                 Dload  Upload   Total   Spent    Left  Speed\n",
            "100  3490  100  3490    0     0  14244      0 --:--:-- --:--:-- --:--:-- 14244\n"
          ],
          "name": "stdout"
        },
        {
          "output_type": "stream",
          "text": [
            "add /root/miniconda/lib/python3.6/site-packages to PYTHONPATH\n",
            "python version: 3.6.9\n",
            "fetching installer from https://repo.continuum.io/miniconda/Miniconda3-latest-Linux-x86_64.sh\n",
            "done\n",
            "installing miniconda to /root/miniconda\n",
            "done\n",
            "installing rdkit, openmm, pdbfixer\n",
            "added conda-forge to channels\n",
            "added omnia to channels\n",
            "done\n",
            "conda packages installation finished!\n"
          ],
          "name": "stderr"
        },
        {
          "output_type": "stream",
          "text": [
            "# conda environments:\n",
            "#\n",
            "base                  *  /root/miniconda\n",
            "\n"
          ],
          "name": "stdout"
        }
      ]
    },
    {
      "cell_type": "code",
      "metadata": {
        "id": "PqG_49beo8uj",
        "outputId": "00c1db95-f242-494f-8519-6093b1af9a6f",
        "colab": {
          "base_uri": "https://localhost:8080/",
          "height": 188
        }
      },
      "source": [
        "# Installing Deepchem\n",
        "!pip install --pre deepchem\n",
        "import deepchem\n",
        "deepchem.__version__"
      ],
      "execution_count": null,
      "outputs": [
        {
          "output_type": "stream",
          "text": [
            "Requirement already satisfied: deepchem in /usr/local/lib/python3.6/dist-packages (2.4.0rc1.dev20201030065801)\n",
            "Requirement already satisfied: numpy in /usr/local/lib/python3.6/dist-packages (from deepchem) (1.18.5)\n",
            "Requirement already satisfied: scikit-learn in /usr/local/lib/python3.6/dist-packages (from deepchem) (0.22.2.post1)\n",
            "Requirement already satisfied: joblib in /usr/local/lib/python3.6/dist-packages (from deepchem) (0.17.0)\n",
            "Requirement already satisfied: scipy in /usr/local/lib/python3.6/dist-packages (from deepchem) (1.4.1)\n",
            "Requirement already satisfied: pandas in /usr/local/lib/python3.6/dist-packages (from deepchem) (1.1.3)\n",
            "Requirement already satisfied: python-dateutil>=2.7.3 in /usr/local/lib/python3.6/dist-packages (from pandas->deepchem) (2.8.1)\n",
            "Requirement already satisfied: pytz>=2017.2 in /usr/local/lib/python3.6/dist-packages (from pandas->deepchem) (2018.9)\n",
            "Requirement already satisfied: six>=1.5 in /usr/local/lib/python3.6/dist-packages (from python-dateutil>=2.7.3->pandas->deepchem) (1.15.0)\n"
          ],
          "name": "stdout"
        },
        {
          "output_type": "execute_result",
          "data": {
            "application/vnd.google.colaboratory.intrinsic+json": {
              "type": "string"
            },
            "text/plain": [
              "'2.4.0-rc1.dev'"
            ]
          },
          "metadata": {
            "tags": []
          },
          "execution_count": 3
        }
      ]
    },
    {
      "cell_type": "code",
      "metadata": {
        "id": "eGgnMlfao_7c",
        "outputId": "e1aeb070-a95e-4aa0-96cd-8242cc080fcb",
        "colab": {
          "base_uri": "https://localhost:8080/"
        }
      },
      "source": [
        "# Getting the dataset\n",
        "dataset_file= \"Log_MRT.csv\"\n",
        "from deepchem.utils.save import load_from_disk\n",
        "dataset_file= \"Log_MRT.csv\"\n",
        "\n",
        "# Loading the data from the CSV file\n",
        "loader = deepchem.data.CSVLoader(tasks=[\"LogMRT(h)\"], \n",
        "                                 feature_field=\"SMILES\", \n",
        "                                 featurizer=deepchem.feat.ConvMolFeaturizer())\n",
        "# Featurizing the dataset with ConvMolFeaturizer\n",
        "dataset = loader.featurize(dataset_file)"
      ],
      "execution_count": null,
      "outputs": [
        {
          "output_type": "stream",
          "text": [
            "/usr/local/lib/python3.6/dist-packages/deepchem/data/data_loader.py:162: FutureWarning: featurize() is deprecated and has been renamed to create_dataset().featurize() will be removed in DeepChem 3.0\n",
            "  \"featurize() will be removed in DeepChem 3.0\", FutureWarning)\n",
            "Failed to featurize datapoint 165, None. Appending empty array\n",
            "Exception message: Python argument types in\n",
            "    rdkit.Chem.rdmolfiles.CanonicalRankAtoms(NoneType)\n",
            "did not match C++ signature:\n",
            "    CanonicalRankAtoms(RDKit::ROMol mol, bool breakTies=True, bool includeChirality=True, bool includeIsotopes=True)\n",
            "Failed to featurize datapoint 481, None. Appending empty array\n",
            "Exception message: Python argument types in\n",
            "    rdkit.Chem.rdmolfiles.CanonicalRankAtoms(NoneType)\n",
            "did not match C++ signature:\n",
            "    CanonicalRankAtoms(RDKit::ROMol mol, bool breakTies=True, bool includeChirality=True, bool includeIsotopes=True)\n",
            "Failed to featurize datapoint 482, None. Appending empty array\n",
            "Exception message: Python argument types in\n",
            "    rdkit.Chem.rdmolfiles.CanonicalRankAtoms(NoneType)\n",
            "did not match C++ signature:\n",
            "    CanonicalRankAtoms(RDKit::ROMol mol, bool breakTies=True, bool includeChirality=True, bool includeIsotopes=True)\n",
            "Failed to featurize datapoint 483, None. Appending empty array\n",
            "Exception message: Python argument types in\n",
            "    rdkit.Chem.rdmolfiles.CanonicalRankAtoms(NoneType)\n",
            "did not match C++ signature:\n",
            "    CanonicalRankAtoms(RDKit::ROMol mol, bool breakTies=True, bool includeChirality=True, bool includeIsotopes=True)\n",
            "Failed to featurize datapoint 484, None. Appending empty array\n",
            "Exception message: Python argument types in\n",
            "    rdkit.Chem.rdmolfiles.CanonicalRankAtoms(NoneType)\n",
            "did not match C++ signature:\n",
            "    CanonicalRankAtoms(RDKit::ROMol mol, bool breakTies=True, bool includeChirality=True, bool includeIsotopes=True)\n",
            "Failed to featurize datapoint 485, None. Appending empty array\n",
            "Exception message: Python argument types in\n",
            "    rdkit.Chem.rdmolfiles.CanonicalRankAtoms(NoneType)\n",
            "did not match C++ signature:\n",
            "    CanonicalRankAtoms(RDKit::ROMol mol, bool breakTies=True, bool includeChirality=True, bool includeIsotopes=True)\n",
            "Failed to featurize datapoint 486, None. Appending empty array\n",
            "Exception message: Python argument types in\n",
            "    rdkit.Chem.rdmolfiles.CanonicalRankAtoms(NoneType)\n",
            "did not match C++ signature:\n",
            "    CanonicalRankAtoms(RDKit::ROMol mol, bool breakTies=True, bool includeChirality=True, bool includeIsotopes=True)\n",
            "Failed to featurize datapoint 487, None. Appending empty array\n",
            "Exception message: Python argument types in\n",
            "    rdkit.Chem.rdmolfiles.CanonicalRankAtoms(NoneType)\n",
            "did not match C++ signature:\n",
            "    CanonicalRankAtoms(RDKit::ROMol mol, bool breakTies=True, bool includeChirality=True, bool includeIsotopes=True)\n",
            "Failed to featurize datapoint 488, None. Appending empty array\n",
            "Exception message: Python argument types in\n",
            "    rdkit.Chem.rdmolfiles.CanonicalRankAtoms(NoneType)\n",
            "did not match C++ signature:\n",
            "    CanonicalRankAtoms(RDKit::ROMol mol, bool breakTies=True, bool includeChirality=True, bool includeIsotopes=True)\n",
            "Failed to featurize datapoint 734, None. Appending empty array\n",
            "Exception message: Python argument types in\n",
            "    rdkit.Chem.rdmolfiles.CanonicalRankAtoms(NoneType)\n",
            "did not match C++ signature:\n",
            "    CanonicalRankAtoms(RDKit::ROMol mol, bool breakTies=True, bool includeChirality=True, bool includeIsotopes=True)\n",
            "Failed to featurize datapoint 813, None. Appending empty array\n",
            "Exception message: Python argument types in\n",
            "    rdkit.Chem.rdmolfiles.CanonicalRankAtoms(NoneType)\n",
            "did not match C++ signature:\n",
            "    CanonicalRankAtoms(RDKit::ROMol mol, bool breakTies=True, bool includeChirality=True, bool includeIsotopes=True)\n"
          ],
          "name": "stderr"
        }
      ]
    },
    {
      "cell_type": "code",
      "metadata": {
        "id": "9xDbW2A4p0l8"
      },
      "source": [
        "    # Splitter splits the dataset \n",
        "    splitter = deepchem.splits.RandomSplitter()\n",
        "    \n",
        "    train, valid, _ = splitter.train_valid_test_split(dataset,\n",
        "                                                      frac_train=0.7,\n",
        "                                                      frac_valid=0.29,\n",
        "                                                      frac_test=0.01)\n",
        "    # Normalizer will normalize y values in the dataset\n",
        "    normalizer = deepchem.trans.NormalizationTransformer(transform_y=True, \n",
        "                                                         dataset=train, \n",
        "                                                         move_mean=True)\n",
        "    train = normalizer.transform(train)\n",
        "    test = normalizer.transform(valid)"
      ],
      "execution_count": null,
      "outputs": []
    },
    {
      "cell_type": "code",
      "metadata": {
        "id": "YRJfuytXJacS",
        "outputId": "b1010028-3f82-4e2d-9430-71de4bbd010e",
        "colab": {
          "base_uri": "https://localhost:8080/"
        }
      },
      "source": [
        "print(f\"Size of the training data: {len(train.ids)}\")\n",
        "print(f\"Size of the validation data: {len(valid.ids)}\")\n",
        "print(test)"
      ],
      "execution_count": null,
      "outputs": [
        {
          "output_type": "stream",
          "text": [
            "Size of the training data: 830\n",
            "Size of the validation data: 345\n",
            "<DiskDataset X.shape: (345,), y.shape: (345, 1), w.shape: (345, 1), ids: ['Cn1nc(nn1)c2ccc(cn2)c3ccc(cc3F)N4C[C@@H](OC4=O)CO'\n",
            " 'C1CCCC(CC1)NC(P(=O)(O)O)P(=O)(O)O'\n",
            " 'Brc3cc2\\\\C(=N/[C@H](c1ncc(n1c2cc3)C)CCC(=O)OC)c4ncccc4' ...\n",
            " 'CN(C)[C@H]1[C@@H]2[C@@H](O)[C@H]3C(=C(O)[C@]2(O)C(=O)C(=C1O)C(=O)N)C(=O)c4c(O)cccc4[C@@]3(C)O'\n",
            " 'CCC(=O)O[C@@]1([C@H](C)C[C@H]2[C@@H]3C[C@H](F)C4=CC(=O)C=C[C@]4(C)[C@@]3(F)[C@@H](O)C[C@]12C)C(=O)SCF'\n",
            " 'OC(=O)CCC(=C(C)C1C2)C(N=1)=CC(=C(CCC(OC)=O)C(C)=C1C=C(N3)C(=C(C=3C=C3C([C@@](C=2N3)(C)[C@H](C(=O)OC)C(=C2)C(=O)OC)=C2)C)C=C)N1'], task_names: ['LogMRT(h)']>\n"
          ],
          "name": "stdout"
        }
      ]
    },
    {
      "cell_type": "code",
      "metadata": {
        "id": "6NKyzDA-JlXY"
      },
      "source": [
        "# GraphConvModel is a GNN model based on Duvenaud, David K., et al. \"Convolutional networks on graphs for learning molecular fingerprints.\"\n",
        "from deepchem.models import GraphConvModel\n",
        "graph_conv = GraphConvModel(1,\n",
        "                            batch_size=50,\n",
        "                            mode=\"regression\")\n",
        "\n",
        "metric = deepchem.metrics.Metric(deepchem.metrics.pearson_r2_score)\n"
      ],
      "execution_count": null,
      "outputs": []
    },
    {
      "cell_type": "code",
      "metadata": {
        "id": "7HRwydQ0K34F",
        "outputId": "4caf35cc-0065-462c-f5cf-3de23da66047",
        "colab": {
          "base_uri": "https://localhost:8080/"
        }
      },
      "source": [
        "# Fitting the model\n",
        "graph_conv.fit(train, nb_epoch=10)"
      ],
      "execution_count": null,
      "outputs": [
        {
          "output_type": "stream",
          "text": [
            "/usr/local/lib/python3.6/dist-packages/tensorflow/python/framework/indexed_slices.py:432: UserWarning: Converting sparse IndexedSlices to a dense Tensor of unknown shape. This may consume a large amount of memory.\n",
            "  \"Converting sparse IndexedSlices to a dense Tensor of unknown shape. \"\n"
          ],
          "name": "stderr"
        },
        {
          "output_type": "execute_result",
          "data": {
            "text/plain": [
              "0.3573262895856585"
            ]
          },
          "metadata": {
            "tags": []
          },
          "execution_count": 19
        }
      ]
    },
    {
      "cell_type": "code",
      "metadata": {
        "id": "rMrQHy7ELE1T",
        "outputId": "e308aae9-27ec-4773-9f14-fbaf4a7809db",
        "colab": {
          "base_uri": "https://localhost:8080/"
        }
      },
      "source": [
        "# Reversing the transformation and getting the metric scores on 2 datasets\n",
        "train_scores = graph_conv.evaluate(train, [metric], [normalizer])\n",
        "valid_scores = graph_conv.evaluate(valid, [metric], [normalizer])\n",
        "print(f\"Train Scores: {train_scores}\")\n",
        "print(f\"Validation Scores: {valid_scores}\")"
      ],
      "execution_count": null,
      "outputs": [
        {
          "output_type": "stream",
          "text": [
            "Train Scores: {'pearson_r2_score': 0.2953802436470955}\n",
            "Validation Scores: {'pearson_r2_score': 0.08477941352107331}\n"
          ],
          "name": "stdout"
        }
      ]
    }
  ]
}